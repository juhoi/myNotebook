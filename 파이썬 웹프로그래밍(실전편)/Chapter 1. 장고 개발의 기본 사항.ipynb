{
 "cells": [
  {
   "cell_type": "markdown",
   "metadata": {},
   "source": [
    "# PART 1 실전 프로그래밍 - 기본편\n",
    "\n",
    "## Chapter 1. 장고 개발의 기본 사항\n",
    "\n",
    "- 장고(Django) 웹프로그래밍의 특징: 쉽고 빠름\n",
    "    - MTV(Model-Template-View) 개발 방식\n",
    "    - 공통 기능(단축 함수, 제네릭 뷰 등) 제공\n",
    "    - 외부 라이브러리가 풍부하고, 레퍼런스가 많음\n",
    "    "
   ]
  },
  {
   "cell_type": "markdown",
   "metadata": {},
   "source": [
    "### 1.1 MTV 개발 방식\n",
    "\n",
    "- MVC(Model-View-Control)와 거의 동일 개념\n",
    "    - 테이블을 정의하는 모델(Model): MVC의 모델\n",
    "    - 화면단을 정의하는 템플릿(Template): MVC의 뷰\n",
    "    - 제어 흐름 및 처리 로직을 정의하는 뷰(View): MVC의 콘트롤\n",
    "    \n",
    "    \n",
    "- 장고에서 프로젝트를 생성하기 위해 startproject, startapp 명령 실행\n",
    "    - 스케폴딩: 자동으로 디렉터리와 파일 생성\n",
    "    - models.py, template 디렉터리, views.py\n",
    "    "
   ]
  },
  {
   "cell_type": "markdown",
   "metadata": {},
   "source": [
    "### 1.2 MTV 코딩 순서\n",
    "\n",
    "- 정해진 순서는 없으나, 일반적으로 독립적으로 개발할 수 있는 모델을 만들고 뷰와 템플릿을 이후에 만든다.\n",
    "    - 프로젝트 뼈대 만들기: 프로젝트 및 앱 개발에 필요한 디렉터리와 파일 생성\n",
    "    - 모델 코딩하기: 테이블 관련 사항을 개발(models.py, admin.py)\n",
    "    - URLconf 코딩하기: URL 및 뷰 매핑 관계를 정의(urls.py)\n",
    "    - 뷰 코딩하기: 애클리케이션 로직 개발(views.py)\n",
    "    - 템플릿 코딩하기: 화면 UI 개발(templates/ 디렉터리 하위의 *.html)\n",
    "    "
   ]
  },
  {
   "cell_type": "markdown",
   "metadata": {},
   "source": [
    "### 1.3 settings.p 주요 사항\n",
    "\n",
    "- 프로젝트 설정 파일: 처음 프로젝트 생성 시 기본사항을 자동으로 등록\n",
    "    - 데이터베이스 설정: 디폴트 SQLite3\n",
    "    - 템플릿 항목 설정: TEMPLATES 항목 지정\n",
    "    - 정적 파일 항목 설정: STATIC_URL 등 관련 항목 지정\n",
    "    - 애플리케이션 등록: 프로젝트에 포함되는 모든 애플리케이션 등록\n",
    "    - 타임존 지정: 디폴트는 세계표준시(UTC), 한국 시간으로 변경\n",
    "    "
   ]
  },
  {
   "cell_type": "markdown",
   "metadata": {},
   "source": [
    "### 1.4 models.py 주요 사항\n",
    "\n",
    "- ORM(Object Relation Mapping) 기법을 사용하기 위해 테이블을 정의\n",
    "- 테이블을 클래스로 매핑\n",
    "- 테이블에 대한 CRUD 기능을 클래스 객체에 대해 수행하면, 내부적으로 데이터베이스에 반영\n",
    "- 테이블 클래스는 django.db.models.Model 클래스를 상속"
   ]
  },
  {
   "cell_type": "markdown",
   "metadata": {},
   "source": [
    "### 1.5 URLconf 주요 사항\n",
    "\n",
    "- URL과 뷰(함수 또는 메소드)를 매핑해 주는 urls.py\n",
    "- 하나의 파일에 정의할 수도 있고 2개의 파일에 정의할 수도 있음\n",
    "- 프로젝트 전체를 정의하는 **프로젝트 URL**과 앱마다 정의하는 **앱 URL**, 2계층을 사용하는 것이 효율적임\n",
    "- reverse() 함수나 {% url %} 템플릿 태그를 사용해 URL을 하드코딩하지 않아도 URL을 추출할 수 있는 기능"
   ]
  },
  {
   "cell_type": "markdown",
   "metadata": {},
   "source": [
    "### 1.6 views.py 주요 사항\n",
    "\n",
    "- 뷰 로직을 만드는 가장 중요한 파일\n",
    "- 함수형 뷰(Function-based view), 클래스형 뷰(Class-based view)\n",
    "- 재활용 및 확장성 측면에서 클래스형 뷰를 권장"
   ]
  },
  {
   "cell_type": "markdown",
   "metadata": {},
   "source": [
    "### 1.7 templates 주요 사항\n",
    "\n",
    "- 웹 화면(페이지) 별로 템플릿 파일(*.html)이 하나씩 필요\n",
    "- 프로젝트 템플릿 디렉터리와 앱 템플릿 디렉터리를 구분해서 사용\n",
    "- 프로젝트 템플릿 디렉터리: TEMPLATES 설정의 DIRS 항목에서 지정\n",
    "- 앱 템플릿 디렉터리: 각 애플리케이션 디렉터리의 templates/ 디렉터리\n",
    "- 장고에서는 프로젝트 템플릿 디렉터리를 먼저 검색하고 앱 템플릿 디렉터리를 검색한다.\n",
    "- 앱 템플릿 디렉터리는 INSTALLED_APPS 에 등록된 순서대로 검색한다."
   ]
  },
  {
   "cell_type": "markdown",
   "metadata": {},
   "source": [
    "### 1.8 Admin 사이트\n",
    "\n",
    "- User와 Group 테이블을 포함해 모든 테이블에 대한 데이터의 입력, 수정, 삭제 등의 작업을 할 수 있다.\n",
    "- settings.py 파일의 django.contrib.auth 애플리케이션 등록"
   ]
  },
  {
   "cell_type": "markdown",
   "metadata": {},
   "source": [
    "### 1.9 개발용 웹 서버 - runserver\n",
    "\n",
    "- 개발 과정에서 웹프로그램을 실행해 볼 수 있는 테스트용 웹 서버\n",
    "- 상용화하기 위해서는 Apache나 NginX 고려"
   ]
  }
 ],
 "metadata": {
  "kernelspec": {
   "display_name": "Python 3",
   "language": "python",
   "name": "python3"
  },
  "language_info": {
   "codemirror_mode": {
    "name": "ipython",
    "version": 3
   },
   "file_extension": ".py",
   "mimetype": "text/x-python",
   "name": "python",
   "nbconvert_exporter": "python",
   "pygments_lexer": "ipython3",
   "version": "3.4.3"
  }
 },
 "nbformat": 4,
 "nbformat_minor": 2
}
